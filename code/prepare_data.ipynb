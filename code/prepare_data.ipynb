{
 "cells": [
  {
   "cell_type": "code",
   "execution_count": 45,
   "metadata": {},
   "outputs": [],
   "source": [
    "import pandas as pd\n",
    "import re\n"
   ]
  },
  {
   "cell_type": "code",
   "execution_count": 89,
   "metadata": {},
   "outputs": [
    {
     "data": {
      "text/plain": [
       "Index(['Unnamed: 0', 'uni', 'instrument', 'gradyear', 'major', 'finaid',\n",
       "       'race', 'gender', 'm_employ', 'm_job', 'd_employ', 'homezip', 'school',\n",
       "       's_address', 's_state', 's_zip', 's_ensemble', 'pt', 'studentID'],\n",
       "      dtype='object')"
      ]
     },
     "execution_count": 89,
     "metadata": {},
     "output_type": "execute_result"
    }
   ],
   "source": [
    "df = pd.read_csv('../data/CYSOanonymized.csv')\n",
    "df.columns"
   ]
  },
  {
   "cell_type": "code",
   "execution_count": 221,
   "metadata": {},
   "outputs": [],
   "source": [
    "# read in data\n",
    "df = pd.read_csv('../data/CYSOanonymized.csv')\n",
    "\n",
    "# set financial aid status to 0 if NaN\n",
    "\n",
    "df['finaid'].fillna(0,inplace=True)\n",
    "\n",
    "# parse race into different rows\n",
    "df['race'].fillna('Other',inplace=True)\n",
    "df['caucasian']=0\n",
    "df['african_american']=0\n",
    "df['native_american']=0\n",
    "df['latino']=0\n",
    "df['asian']=0\n",
    "df['other_race']=0\n",
    "df['race_num']=0\n",
    "\n",
    "for index, row in df.iterrows():\n",
    "    if re.search('cauc', str(row['race']), re.IGNORECASE):\n",
    "        df.loc[index,'caucasian']=1\n",
    "        df.loc[index,'race_num']=df.loc[index,'race_num']+1\n",
    "    if re.search('african', str(row['race']), re.IGNORECASE):\n",
    "        df.loc[index,'african_american']=1\n",
    "        df.loc[index,'race_num']=df.loc[index,'race_num']+1\n",
    "    if re.search('native', str(row['race']), re.IGNORECASE):\n",
    "        df.loc[index,'native_american']=1\n",
    "        df.loc[index,'race_num']=df.loc[index,'race_num']+1\n",
    "    if re.search('latino', str(row['race']), re.IGNORECASE):\n",
    "        df.loc[index,'latino']=1\n",
    "        df.loc[index,'race_num']=df.loc[index,'race_num']+1\n",
    "    if re.search('asian', str(row['race']), re.IGNORECASE):\n",
    "        if not re.search('caucasian', str(row['race']), re.IGNORECASE):\n",
    "            df.loc[index,'asian']=1\n",
    "            df.loc[index,'race_num']=df.loc[index,'race_num']+1\n",
    "    if re.search('other', str(row['race']), re.IGNORECASE):\n",
    "        df.loc[index,'other_race']=1\n",
    "        df.loc[index,'race_num']=df.loc[index,'race_num']+1\n",
    "    if re.search(\"`\", str(row['race']), re.IGNORECASE):\n",
    "        df.loc[index,'other_race']=1\n",
    "        df.loc[index,'race_num']=df.loc[index,'race_num']+1\n",
    "\n",
    "# compile gender\n",
    "df['male']=0\n",
    "df['female']=0\n",
    "\n",
    "df.gender = df.gender.str.strip()\n",
    "df.gender.replace('Male','M',inplace=True)\n",
    "df.gender.replace('Female','F',inplace=True)\n",
    "\n",
    "for index, row in df.iterrows():\n",
    "    if row['gender']=='M':\n",
    "        df.loc[index, 'male']=1\n",
    "    if row['gender']=='F':\n",
    "        df.loc[index,'female']=1\n",
    "\n",
    "# compile major\n",
    "\n",
    "df['music']=0\n",
    "\n",
    "music_terms = ['performance','music','violin','songwriting','perfomance','bass','cello','viola','jazz']\n",
    "\n",
    "for index, row in df.iterrows():\n",
    "    for music_term in music_terms:\n",
    "        if re.search(music_term,str(row['major']),re.IGNORECASE):\n",
    "            df.loc[index,'music']=1\n",
    "    \n",
    "\n",
    "# map in incomes\n",
    "\n",
    "income = pd.read_csv('../data/income_zip.csv')\n",
    "df['homezip']=pd.to_numeric(df['homezip'], errors='coerce')\n",
    "df = pd.merge(df,income,how='left',left_on='homezip',right_on='Zip')\n",
    "\n",
    "\n",
    "# drop spurious columns and rename others\n",
    "df.rename(index=str, columns={\"Mean\": \"mean_income\", \"Median\": \"median_income\"}, inplace=True)\n",
    "df['mean_income']=pd.to_numeric(df['mean_income'], errors='coerce')\n",
    "df['median_income'] = df['median_income'].str.replace(',','')\n",
    "df['median_income']=pd.to_numeric(df['median_income'], errors='coerce')\n",
    "df.drop(['Zip', 'Pop', 'Unnamed: 0','instrument','race','gender','s_ensemble',\\\n",
    "        'm_employ','m_job','d_employ','school','s_address','uni','pt',\\\n",
    "        's_state','major','homezip','s_zip','studentID','mean_income','gradyear'], axis=1, inplace=True)\n",
    "\n",
    "\n",
    "\n",
    "# save new data structure\n",
    "df.to_csv('../data/fitting_data.csv')"
   ]
  },
  {
   "cell_type": "code",
   "execution_count": null,
   "metadata": {},
   "outputs": [],
   "source": []
  }
 ],
 "metadata": {
  "kernelspec": {
   "display_name": "Python 3",
   "language": "python",
   "name": "python3"
  },
  "language_info": {
   "codemirror_mode": {
    "name": "ipython",
    "version": 3
   },
   "file_extension": ".py",
   "mimetype": "text/x-python",
   "name": "python",
   "nbconvert_exporter": "python",
   "pygments_lexer": "ipython3",
   "version": "3.6.6"
  },
  "toc": {
   "base_numbering": 1,
   "nav_menu": {},
   "number_sections": true,
   "sideBar": true,
   "skip_h1_title": false,
   "title_cell": "Table of Contents",
   "title_sidebar": "Contents",
   "toc_cell": false,
   "toc_position": {},
   "toc_section_display": true,
   "toc_window_display": false
  },
  "varInspector": {
   "cols": {
    "lenName": 16,
    "lenType": 16,
    "lenVar": 40
   },
   "kernels_config": {
    "python": {
     "delete_cmd_postfix": "",
     "delete_cmd_prefix": "del ",
     "library": "var_list.py",
     "varRefreshCmd": "print(var_dic_list())"
    },
    "r": {
     "delete_cmd_postfix": ") ",
     "delete_cmd_prefix": "rm(",
     "library": "var_list.r",
     "varRefreshCmd": "cat(var_dic_list()) "
    }
   },
   "types_to_exclude": [
    "module",
    "function",
    "builtin_function_or_method",
    "instance",
    "_Feature"
   ],
   "window_display": false
  }
 },
 "nbformat": 4,
 "nbformat_minor": 2
}
