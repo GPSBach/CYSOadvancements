{
 "cells": [
  {
   "cell_type": "code",
   "execution_count": 131,
   "metadata": {},
   "outputs": [],
   "source": [
    "import pandas as pd\n",
    "import numpy as np\n",
    "from fuzzywuzzy import process, fuzz\n",
    "from matplotlib import pyplot as plt\n",
    "import seaborn as sns\n",
    "import re"
   ]
  },
  {
   "cell_type": "code",
   "execution_count": 213,
   "metadata": {},
   "outputs": [
    {
     "name": "stdout",
     "output_type": "stream",
     "text": [
      "UniversityofMichigan  AND  UniversityofMichiganAnnArbor\n",
      "UniversityofMinnesota  AND  UniversityofMinnesotaTwinCities\n",
      "UniversityofMichigan  AND  UniversityofMichiganAnnArbor\n",
      "UniversityofIllinois  AND  UniversityofIllinoisChicago\n",
      "UniversityofIllinois  AND  UniversityofIllinoisChicago\n",
      "UniversityofIllinois  AND  UniversityofIllinoisChicago\n",
      "UniversityofIllinois  AND  UniversityofIllinoisChicago\n",
      "UniversityofMichigan  AND  UniversityofMichiganAnnArbor\n",
      "UniversityofIllinois,Urbana  AND  UniversityofIllinoisUrbanaChampaign\n",
      "UniversityofIllinois,Urbana  AND  UniversityofIllinoisUrbanaChampaign\n",
      "MiamiUniversityofOxford,Ohio  AND  MiamiUniversityOxford\n",
      "LoyolaUniversity  AND  LoyolaUniversityChicago\n",
      "ConservatoryofParisFrance  AND  ConservatoryofParis\n",
      "UniversityofMichigan  AND  UniversityofMichiganAnnArbor\n",
      "UniversityofIllinois  AND  UniversityofIllinoisChicago\n",
      "UniversityofMichigan  AND  UniversityofMichiganAnnArbor\n",
      "IndianaUniversity  AND  IndianaStateUniversity\n",
      "IndianaUniversity  AND  IndianaStateUniversity\n",
      "IndianaUniversity  AND  IndianaStateUniversity\n",
      "UniversityofIllinois  AND  UniversityofIllinoisChicago\n",
      "WesternIllinoisUniversity  AND  NorthernIllinoisUniversity\n",
      "UniversityofIUrbanaChampaign  AND  UniversityofIllinoisUrbanaChampaign\n",
      "IndianaUniversity,  AND  IndianaStateUniversity\n",
      "IndianaUniversity,  AND  IndianaStateUniversity\n",
      "UniversityofIUrbanaChampaign  AND  UniversityofIllinoisUrbanaChampaign\n",
      "oklahomastateuniversity  AND  OklahomaStateUniversity\n",
      "UniversityofIllinois  AND  UniversityofIllinoisChicago\n",
      "IndianaUniversity  AND  IndianaStateUniversity\n",
      "IndianaUniversity()  AND  IndianaStateUniversity\n",
      "UniversityofMichigan  AND  UniversityofMichiganAnnArbor\n",
      "OberlinConservatory  AND  OberlinConservatoryofMusic\n",
      "UniversityofMinnesota  AND  UniversityofMinnesotaTwinCities\n",
      "UniversityofMichigan  AND  UniversityofMichiganAnnArbor\n",
      "UniversityofIllinois  AND  UniversityofIllinoisChicago\n",
      "UniversityofIllinois  AND  UniversityofIllinoisChicago\n",
      "OberlinConservatory  AND  OberlinConservatoryofMusic\n",
      "OberlinConservatory  AND  OberlinConservatoryofMusic\n",
      "HauteécoledemusiquedeLausanne(2018)  AND  LaHauteEcoledeMusiquedeLausanne\n",
      "coloradocollege  AND  ColoradoCollege\n",
      ",atIndianaUniversity  AND  IndianaStateUniversity\n",
      "SanFranciscoConservatoryofMusic  AND  SanFranciscoConservatory\n",
      "OberlinConservatory  AND  OberlinConservatoryofMusic\n",
      "LouisianaStateUniversity  AND  LouisianaStateUniversityBatonRouge\n",
      "OberlinConservatory  AND  OberlinConservatoryofMusic\n",
      "LoyolaUniversity  AND  LoyolaUniversityChicago\n"
     ]
    }
   ],
   "source": [
    "\"\"\"\n",
    "explore data\n",
    "\"\"\"\n",
    "\n",
    "# read in data\n",
    "df = pd.read_csv('../data/exploring_data.csv')\n",
    "uf = pd.read_csv('../data/colleges.csv')\n",
    "\n",
    "df['uni_close'] = 'none'\n",
    "\n",
    "#\n",
    "df['uni'] = df['uni'].fillna('none given')\n",
    "df['uni'] = df['uni'].str.replace('Uof','University of')\n",
    "df['uni'] = df['uni'].str.replace('U of','University of')\n",
    "df['uni'] = df['uni'].str.replace('Jacobs School of Music','')\n",
    "uf['displayName'] = uf['displayName'].fillna('none given')\n",
    "\n",
    "def stripnames(dataframe,instring,outstring):\n",
    "    dataframe.loc[df['uni'].str.replace(' ','').replace(\"'\",'').replace('-','') \\\n",
    "                  ==instring.replace(' ','').replace(\"'\",'').replace('-',''),'uni']=outstring\n",
    "    return dataframe\n",
    "\n",
    "# # heres where I'm lining up the names\n",
    "df = stripnames(df,'Indiana University','Indiana University--Bloomington')\n",
    "df = stripnames(df,'NYU','New York University')\n",
    "df = stripnames(df,'Oberlin','Oberlin College')\n",
    "df = stripnames(df,'UIC','University of Illinois Chicago')\n",
    "df = stripnames(df,'UIUC','University of Illinois--Urbana Champaign')\n",
    "df = stripnames(df,'USC(So.Cal.)','University of Southern California')\n",
    "df = stripnames(df,'UofMichigan','University of Michigan')\n",
    "df = stripnames(df,'Peabody','Johns Hopkins University')\n",
    "df = stripnames(df,'University of I','University of Illinois--Urbana Champaign')\n",
    "df = stripnames(df,'NIU','Northern Illinois University')\n",
    "df = stripnames(df,'U.ofMinnesotaCarlsonSchoolofBusiness','University of Minnesota')\n",
    "df = stripnames(df,'NEC','New England Conservatory')\n",
    "df = stripnames(df,'MIT','Massachussetts Institute of Technology')\n",
    "df = stripnames(df,'Gap Year','none')\n",
    "df = stripnames(df,'Year off','none')\n",
    "df = stripnames(df,'The Juilliard School','Julliard School')\n",
    "df = stripnames(df,'IUBloomington,JacobsSchoolofMusic','Indiana University--Bloomington')\n",
    "df = stripnames(df,'IUJacobsSchoolofMusic','Indiana University--Bloomington')\n",
    "df = stripnames(df,'HarvardCollege','Harvard University')\n",
    "df = stripnames(df,'Undecided','none')\n",
    "df = stripnames(df,'NotgoingtoCollege','none')\n",
    "df = stripnames(df,'IndianaUniversityJacobsSchoolofMusic','Indiana University--Bloomington')\n",
    "df = stripnames(df,'IndianaUniversity,JacobsSchoolofMusic','Indiana University--Bloomington')\n",
    "df = stripnames(df,'IndianaUniversity(JacobsSchoolofMusic)','Indiana University--Bloomington')\n",
    "df = stripnames(df,'JacobsSchoolofMusic,atIndianaUniversity','Indiana University--Bloomington')\n",
    "df = stripnames(df,'ClarendonHillsMiddleSchool','none')\n",
    "df = stripnames(df,'IU','Indiana University--Bloomington')\n",
    "df = stripnames(df,'LawrenceConservatory','Lawrence University')\n",
    "df = stripnames(df,'IndianaUniversity','Indiana University--Bloomington')\n",
    "df = stripnames(df,'WesternIllinoisUniversity','WesternIllinois')\n",
    "df = stripnames(df,'X','X')\n",
    "df = stripnames(df,'X','X')\n",
    "df = stripnames(df,'X','X')\n",
    "df = stripnames(df,'X','X')\n",
    "df = stripnames(df,'X','X')\n",
    "df = stripnames(df,'X','X')\n",
    "df = stripnames(df,'X','X')\n",
    "\n",
    "for index, row in df.iterrows():\n",
    "    df.loc[index, 'uni_close']=process.extractOne(row['uni'],uf['displayName'])[0]\n",
    "\n",
    "for index, row in df.iterrows():\n",
    "    actual_uni = row['uni'].replace(' ','').replace(\"'\",'').replace('-','')\n",
    "    closest_uni = row['uni_close'].replace(' ','').replace(\"'\",'').replace('-','')\n",
    "    if 80 < fuzz.ratio(actual_uni,closest_uni) < 90:\n",
    "        print(actual_uni.strip(), ' AND ',closest_uni.strip())"
   ]
  },
  {
   "cell_type": "code",
   "execution_count": null,
   "metadata": {},
   "outputs": [],
   "source": []
  }
 ],
 "metadata": {
  "kernelspec": {
   "display_name": "Python 3",
   "language": "python",
   "name": "python3"
  },
  "language_info": {
   "codemirror_mode": {
    "name": "ipython",
    "version": 3
   },
   "file_extension": ".py",
   "mimetype": "text/x-python",
   "name": "python",
   "nbconvert_exporter": "python",
   "pygments_lexer": "ipython3",
   "version": "3.6.6"
  },
  "toc": {
   "base_numbering": 1,
   "nav_menu": {},
   "number_sections": true,
   "sideBar": true,
   "skip_h1_title": false,
   "title_cell": "Table of Contents",
   "title_sidebar": "Contents",
   "toc_cell": false,
   "toc_position": {},
   "toc_section_display": true,
   "toc_window_display": false
  },
  "varInspector": {
   "cols": {
    "lenName": 16,
    "lenType": 16,
    "lenVar": 40
   },
   "kernels_config": {
    "python": {
     "delete_cmd_postfix": "",
     "delete_cmd_prefix": "del ",
     "library": "var_list.py",
     "varRefreshCmd": "print(var_dic_list())"
    },
    "r": {
     "delete_cmd_postfix": ") ",
     "delete_cmd_prefix": "rm(",
     "library": "var_list.r",
     "varRefreshCmd": "cat(var_dic_list()) "
    }
   },
   "types_to_exclude": [
    "module",
    "function",
    "builtin_function_or_method",
    "instance",
    "_Feature"
   ],
   "window_display": false
  }
 },
 "nbformat": 4,
 "nbformat_minor": 2
}
