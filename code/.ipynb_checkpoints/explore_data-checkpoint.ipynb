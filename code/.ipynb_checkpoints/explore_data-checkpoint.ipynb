{
 "cells": [
  {
   "cell_type": "code",
   "execution_count": 36,
   "metadata": {},
   "outputs": [],
   "source": [
    "import pandas as pd\n",
    "import numpy as np\n",
    "import pickle as pkl\n",
    "from fuzzywuzzy import process, fuzz\n",
    "from matplotlib import pyplot as plt\n",
    "import seaborn as sns\n",
    "import re\n",
    "from collections import defaultdict\n",
    "from sklearn.model_selection import train_test_split\n",
    "from sklearn.metrics import roc_curve, auc\n",
    "%matplotlib inline"
   ]
  },
  {
   "cell_type": "code",
   "execution_count": 3,
   "metadata": {},
   "outputs": [],
   "source": [
    "with open(\"../data/1000_models.pkl\", 'rb') as picklefile:\n",
    "    models = pkl.load(picklefile)"
   ]
  },
  {
   "cell_type": "code",
   "execution_count": 4,
   "metadata": {},
   "outputs": [],
   "source": [
    "with open(\"../data/1000_models_scores.pkl\", 'rb') as picklefile:\n",
    "    scores = pkl.load(picklefile)"
   ]
  },
  {
   "cell_type": "code",
   "execution_count": 43,
   "metadata": {},
   "outputs": [
    {
     "data": {
      "text/plain": [
       "<matplotlib.axes._subplots.AxesSubplot at 0x1a2762f978>"
      ]
     },
     "execution_count": 43,
     "metadata": {},
     "output_type": "execute_result"
    },
    {
     "data": {
      "image/png": "[encoded data removed]",
      "text/plain": [
       "<Figure size 432x288 with 1 Axes>"
      ]
     },
     "metadata": {},
     "output_type": "display_data"
    }
   ],
   "source": [
    "CC = []\n",
    "l_test = []\n",
    "l_diff = []\n",
    "for x in range(1000):\n",
    "    CC.append(models[x]['l2'].best_estimator_.named_steps['logisticregression'].C)\n",
    "    l_test.append(scores[x]['l2'][1])\n",
    "    l_diff.append(scores[x]['l2'][1]-scores[x]['l2'][0])\n",
    "    \n",
    "sns.boxplot(CC)"
   ]
  },
  {
   "cell_type": "code",
   "execution_count": 13,
   "metadata": {},
   "outputs": [
    {
     "data": {
      "text/plain": [
       "array([[-0.40417637,  0.49531786, -0.04723014,  0.38941665,  0.18896248,\n",
       "         0.1612788 , -0.33775632, -0.28266147, -0.30425015,  0.32568629,\n",
       "        -0.27696585]])"
      ]
     },
     "execution_count": 13,
     "metadata": {},
     "output_type": "execute_result"
    }
   ],
   "source": [
    "models[x]['l2'].best_estimator_.named_steps['logisticregression'].coef_"
   ]
  },
  {
   "cell_type": "code",
   "execution_count": 26,
   "metadata": {},
   "outputs": [],
   "source": [
    "uni_public = []\n",
    "acceptance_rate = []\n",
    "male = []\n",
    "caucasian = []\n",
    "african_american = []\n",
    "latino = []\n",
    "asian = []\n",
    "chi_school = []\n",
    "chi_home = []\n",
    "financial_aid = []\n",
    "median_income = []\n",
    "\n",
    "for x in range(1000):\n",
    "    uni_public.append(models[x]['l2'].best_estimator_.named_steps['logisticregression'].coef_[0][0])\n",
    "    acceptance_rate.append(models[x]['l2'].best_estimator_.named_steps['logisticregression'].coef_[0][1])\n",
    "    male.append(models[x]['l2'].best_estimator_.named_steps['logisticregression'].coef_[0][2])\n",
    "    caucasian.append(models[x]['l2'].best_estimator_.named_steps['logisticregression'].coef_[0][3])\n",
    "    african_american.append(models[x]['l2'].best_estimator_.named_steps['logisticregression'].coef_[0][4])\n",
    "    latino.append(models[x]['l2'].best_estimator_.named_steps['logisticregression'].coef_[0][5])\n",
    "    asian.append(models[x]['l2'].best_estimator_.named_steps['logisticregression'].coef_[0][6])\n",
    "    chi_school.append(models[x]['l2'].best_estimator_.named_steps['logisticregression'].coef_[0][7])\n",
    "    chi_home.append(models[x]['l2'].best_estimator_.named_steps['logisticregression'].coef_[0][8])\n",
    "    financial_aid.append(models[x]['l2'].best_estimator_.named_steps['logisticregression'].coef_[0][9])\n",
    "    median_income.append(models[x]['l2'].best_estimator_.named_steps['logisticregression'].coef_[0][10])\n",
    "    \n",
    "    \n",
    "coefficients = pd.DataFrame({'Public University' : uni_public,\n",
    "                            'University Acceptance Rate' : acceptance_rate, \n",
    "                            'School in City of Chicago' : chi_school,\n",
    "                            'School outside City of Chicago' : np.multiply(-1,chi_school),\n",
    "                            'Home in City of Chicago' : chi_home,\n",
    "                            'Home outside City of Chicago' : np.multiply(-1,chi_home),\n",
    "                            'CYSO Financial Aid Score' : financial_aid,\n",
    "                            'Home Zipcode Median Income' : median_income,\n",
    "                            'male' : male,\n",
    "                            'female' : np.multiply(-1,male),\n",
    "                            'African American' : african_american,\n",
    "                            'Caucasian' :  caucasian,\n",
    "                            'Latinx' : latino,\n",
    "                            'East Asian' : asian\n",
    "                            })   \n",
    "    \n",
    "    \n",
    "coefficients.to_csv('../data/model_coefficients.csv')\n",
    "    \n",
    "    \n",
    "    "
   ]
  },
  {
   "cell_type": "code",
   "execution_count": 50,
   "metadata": {},
   "outputs": [
    {
     "data": {
      "text/plain": [
       "(array([  1.,   0.,   1.,   1.,   7.,  11.,   9.,  32.,  43.,  83.,  95.,\n",
       "        139., 139., 145., 124.,  88.,  52.,  16.,   9.,   5.]),\n",
       " array([-0.75060044, -0.7223321 , -0.69406375, -0.66579541, -0.63752707,\n",
       "        -0.60925873, -0.58099038, -0.55272204, -0.5244537 , -0.49618536,\n",
       "        -0.46791701, -0.43964867, -0.41138033, -0.38311198, -0.35484364,\n",
       "        -0.3265753 , -0.29830696, -0.27003861, -0.24177027, -0.21350193,\n",
       "        -0.18523359]),\n",
       " <a list of 20 Patch objects>)"
      ]
     },
     "execution_count": 50,
     "metadata": {},
     "output_type": "execute_result"
    },
    {
     "data": {
      "image/png": "[encoded data removed]",
      "text/plain": [
       "<Figure size 432x288 with 1 Axes>"
      ]
     },
     "metadata": {},
     "output_type": "display_data"
    }
   ],
   "source": [
    "plt.hist(uni_public,20)"
   ]
  },
  {
   "cell_type": "code",
   "execution_count": 55,
   "metadata": {},
   "outputs": [
    {
     "name": "stdout",
     "output_type": "stream",
     "text": [
      "38\n",
      "36\n",
      "40\n",
      "40\n",
      "42\n",
      "40\n",
      "40\n",
      "36\n",
      "44\n",
      "38\n"
     ]
    },
    {
     "data": {
      "image/png": "[encoded data removed]",
      "text/plain": [
       "<Figure size 576x576 with 1 Axes>"
      ]
     },
     "metadata": {},
     "output_type": "display_data"
    }
   ],
   "source": [
    "'''\n",
    "ROC Plot\n",
    "'''\n",
    "\n",
    "df = pd.read_csv('../data/fitting_data.csv')\n",
    "df.drop(['Unnamed: 0'],axis=1,inplace=True)\n",
    "df = df.fillna(0)\n",
    "y = df.pop('music').values\n",
    "stratification_columns = df.pop('stratification_column').values\n",
    "X = df.values\n",
    "\n",
    "logit_num = 4\n",
    "\n",
    "X_train, X_test, y_train, y_test = train_test_split(X, y, test_size=0.25, random_state=42,stratify=X[:,9])\n",
    "\n",
    "datapointers = {\n",
    "    'l1' : 'logistic',\n",
    "    'l2' : 'logistic',\n",
    "    'rf' : 'not_logistic',\n",
    "    'gb' : 'not_logistic',\n",
    "    'linsvc' : 'not logistic',\n",
    "    'rbfsvc' : 'not logistic'\n",
    "}\n",
    "\n",
    "\n",
    "# Initialize figure\n",
    "fig = plt.figure(figsize=(8,8))\n",
    "plt.title('Receiver Operating Characteristic',fontsize=20)\n",
    "\n",
    "name = 'l2'\n",
    "\n",
    "for x in range(10):\n",
    "    if datapointers[name] == 'logistic':\n",
    "        pred = models[x][name].predict_proba(X_test[:,logit_num:])\n",
    "    else:\n",
    "        pred = models[x][name].predict_proba(X_test)\n",
    "    pred = [p[1] for p in pred]\n",
    "    fpr, tpr, thresholds = roc_curve(y_test, pred)\n",
    "    print(len(fpr))\n",
    "    \n",
    "    # Plot ROC curve\n",
    "    plt.plot(fpr, tpr, c='grey',linewidth=1,alpha=0.5)\n",
    "\n",
    "# Diagonal 45 degree line\n",
    "plt.plot([0,1],[0,1],'k--',linewidth=3)\n",
    "#plt.legend(loc='lower right',fontsize=16)\n",
    "\n",
    "# Axes limits and labels\n",
    "plt.xlim([-0.1, 1.1])\n",
    "plt.ylim([-0.1, 1.1])\n",
    "plt.ylabel('True Positive Rate',fontsize=18)\n",
    "plt.xlabel('False Positive Rate',fontsize=18)\n",
    "plt.tick_params(labelsize=16)\n",
    "plt.grid(True)\n",
    "plt.show()\n",
    "fig.savefig('../plots/ROC_full.pdf',bbox_inches='tight')"
   ]
  },
  {
   "cell_type": "code",
   "execution_count": 33,
   "metadata": {},
   "outputs": [
    {
     "data": {
      "text/plain": [
       "LogisticRegression(C=0.09008016032064128, class_weight=None, dual=False,\n",
       "          fit_intercept=True, intercept_scaling=1, max_iter=100,\n",
       "          multi_class='warn', n_jobs=None, penalty='l2', random_state=125,\n",
       "          solver='warn', tol=0.0001, verbose=0, warm_start=False)"
      ]
     },
     "execution_count": 33,
     "metadata": {},
     "output_type": "execute_result"
    }
   ],
   "source": [
    "models[x]['l2'].best_estimator_.named_steps['logisticregression']"
   ]
  },
  {
   "cell_type": "code",
   "execution_count": 24,
   "metadata": {},
   "outputs": [
    {
     "data": {
      "text/plain": [
       "<matplotlib.axes._subplots.AxesSubplot at 0x1a177c5080>"
      ]
     },
     "execution_count": 24,
     "metadata": {},
     "output_type": "execute_result"
    },
    {
     "data": {
      "image/png": "[encoded data removed]",
      "text/plain": [
       "<Figure size 432x288 with 1 Axes>"
      ]
     },
     "metadata": {},
     "output_type": "display_data"
    }
   ],
   "source": [
    "coefficients.boxplot()\n",
    "#sns.boxplot(asian, hue = ['asian'])"
   ]
  },
  {
   "cell_type": "code",
   "execution_count": 63,
   "metadata": {},
   "outputs": [
    {
     "data": {
      "text/plain": [
       "0.09008016032064128"
      ]
     },
     "execution_count": 63,
     "metadata": {},
     "output_type": "execute_result"
    }
   ],
   "source": [
    "models[x]['l2'].best_estimator_.named_steps['logisticregression'].C"
   ]
  },
  {
   "cell_type": "code",
   "execution_count": 66,
   "metadata": {},
   "outputs": [
    {
     "data": {
      "text/plain": [
       "0.7170345217883418"
      ]
     },
     "execution_count": 66,
     "metadata": {},
     "output_type": "execute_result"
    }
   ],
   "source": [
    "scores[x]['l2'][1]"
   ]
  },
  {
   "cell_type": "code",
   "execution_count": null,
   "metadata": {},
   "outputs": [],
   "source": []
  }
 ],
 "metadata": {
  "kernelspec": {
   "display_name": "Python 3",
   "language": "python",
   "name": "python3"
  },
  "language_info": {
   "codemirror_mode": {
    "name": "ipython",
    "version": 3
   },
   "file_extension": ".py",
   "mimetype": "text/x-python",
   "name": "python",
   "nbconvert_exporter": "python",
   "pygments_lexer": "ipython3",
   "version": "3.6.6"
  },
  "toc": {
   "base_numbering": 1,
   "nav_menu": {},
   "number_sections": true,
   "sideBar": true,
   "skip_h1_title": false,
   "title_cell": "Table of Contents",
   "title_sidebar": "Contents",
   "toc_cell": false,
   "toc_position": {},
   "toc_section_display": true,
   "toc_window_display": false
  },
  "varInspector": {
   "cols": {
    "lenName": 16,
    "lenType": 16,
    "lenVar": 40
   },
   "kernels_config": {
    "python": {
     "delete_cmd_postfix": "",
     "delete_cmd_prefix": "del ",
     "library": "var_list.py",
     "varRefreshCmd": "print(var_dic_list())"
    },
    "r": {
     "delete_cmd_postfix": ") ",
     "delete_cmd_prefix": "rm(",
     "library": "var_list.r",
     "varRefreshCmd": "cat(var_dic_list()) "
    }
   },
   "types_to_exclude": [
    "module",
    "function",
    "builtin_function_or_method",
    "instance",
    "_Feature"
   ],
   "window_display": false
  }
 },
 "nbformat": 4,
 "nbformat_minor": 2
}
