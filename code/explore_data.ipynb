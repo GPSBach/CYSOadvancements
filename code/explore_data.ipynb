{
 "cells": [
  {
   "cell_type": "code",
   "execution_count": 131,
   "metadata": {},
   "outputs": [],
   "source": [
    "import pandas as pd\n",
    "import numpy as np\n",
    "from fuzzywuzzy import process, fuzz\n",
    "from matplotlib import pyplot as plt\n",
    "import seaborn as sns\n",
    "import re"
   ]
  },
  {
   "cell_type": "code",
   "execution_count": 272,
   "metadata": {},
   "outputs": [
    {
     "data": {
      "text/plain": [
       "Index(['Unnamed: 0', 'instrument', 'gradyear', 'major', 'financial_aid',\n",
       "       'race', 'gender', 'm_employ', 'm_job', 'd_employ', 'homezip', 'school',\n",
       "       's_address', 's_state', 's_zip', 's_ensemble', 'pt', 'studentID',\n",
       "       'caucasian', 'african_american', 'native_american', 'latino', 'asian',\n",
       "       'other_race', 'multiracial', 'male', 'female', 'music', 'median_income',\n",
       "       'mean_income', 'Pop', 'income_diff', 'uni', 'acceptance_rate',\n",
       "       'uni_public', 'chi_school', 'notchi_school', 'chi_home', 'notchi_home'],\n",
       "      dtype='object')"
      ]
     },
     "execution_count": 272,
     "metadata": {},
     "output_type": "execute_result"
    }
   ],
   "source": [
    "'''\n",
    "High School Data\n",
    "'''\n",
    "\n",
    "# read in data\n",
    "df = pd.read_csv('../data/exploring_data.csv')\n",
    "\n",
    "# read in city of chicago zipcodes\n",
    "zipcodes = pd.read_csv('../data/chicago_zipcodes.csv')\n",
    "\n",
    "# convert to integers\n",
    "df['s_zip']=pd.to_numeric(df['s_zip'], errors='coerce')\n",
    "df.s_zip = df.s_zip.fillna(0)\n",
    "df.s_zip = df.s_zip.astype(int)\n",
    "df['homezip']=pd.to_numeric(df['homezip'], errors='coerce')\n",
    "df.homezip = df.homezip.fillna(0)\n",
    "df.homezip = df.homezip.astype(int)\n",
    "zipcodes['ZIP']=pd.to_numeric(zipcodes['ZIP'], errors='coerce',downcast='integer')\n",
    "zipcodes.ZIP = zipcodes.ZIP.astype(int)\n",
    "\n",
    "# column for in chicago\n",
    "df['chi_school']=0\n",
    "df['notchi_school']=0\n",
    "df['chi_home']=0\n",
    "df['notchi_home']=0\n",
    "\n",
    "df.loc[df['s_zip'].isin(zipcodes['ZIP']),'chi_school']=1\n",
    "df.loc[~df['s_zip'].isin(zipcodes['ZIP']),'notchi_school']==1\n",
    "df.loc[df['homezip'].isin(zipcodes['ZIP']),'chi_home']==1\n",
    "df.loc[~df['homezip'].isin(zipcodes['ZIP']),'notchi_home']==1\n",
    "\n",
    "df.columns"
   ]
  },
  {
   "cell_type": "code",
   "execution_count": 273,
   "metadata": {},
   "outputs": [
    {
     "data": {
      "text/plain": [
       "11     0\n",
       "44     0\n",
       "51     0\n",
       "59     0\n",
       "67     0\n",
       "89     0\n",
       "94     0\n",
       "104    0\n",
       "107    0\n",
       "114    0\n",
       "116    0\n",
       "121    0\n",
       "122    0\n",
       "131    0\n",
       "133    0\n",
       "140    0\n",
       "141    0\n",
       "172    0\n",
       "178    0\n",
       "183    0\n",
       "186    0\n",
       "189    0\n",
       "193    0\n",
       "197    0\n",
       "211    0\n",
       "233    0\n",
       "240    0\n",
       "242    0\n",
       "253    0\n",
       "258    0\n",
       "      ..\n",
       "306    0\n",
       "316    0\n",
       "344    0\n",
       "347    0\n",
       "352    0\n",
       "354    0\n",
       "360    0\n",
       "368    0\n",
       "373    0\n",
       "374    0\n",
       "388    0\n",
       "391    0\n",
       "393    0\n",
       "400    0\n",
       "402    0\n",
       "404    0\n",
       "407    0\n",
       "418    0\n",
       "422    0\n",
       "423    0\n",
       "426    0\n",
       "432    0\n",
       "437    0\n",
       "441    0\n",
       "444    0\n",
       "448    0\n",
       "450    0\n",
       "451    0\n",
       "453    0\n",
       "467    0\n",
       "Name: chi_school, Length: 68, dtype: int64"
      ]
     },
     "execution_count": 273,
     "metadata": {},
     "output_type": "execute_result"
    }
   ],
   "source": [
    "df.loc[df['s_zip'].isin(zipcodes['ZIP']),'chi_school']"
   ]
  },
  {
   "cell_type": "code",
   "execution_count": 241,
   "metadata": {},
   "outputs": [
    {
     "data": {
      "text/plain": [
       "Index(['ZIP'], dtype='object')"
      ]
     },
     "execution_count": 241,
     "metadata": {},
     "output_type": "execute_result"
    }
   ],
   "source": [
    "zipcodes.columns"
   ]
  },
  {
   "cell_type": "code",
   "execution_count": null,
   "metadata": {},
   "outputs": [],
   "source": []
  },
  {
   "cell_type": "code",
   "execution_count": null,
   "metadata": {},
   "outputs": [],
   "source": []
  },
  {
   "cell_type": "code",
   "execution_count": null,
   "metadata": {},
   "outputs": [],
   "source": []
  },
  {
   "cell_type": "code",
   "execution_count": null,
   "metadata": {},
   "outputs": [],
   "source": []
  },
  {
   "cell_type": "code",
   "execution_count": null,
   "metadata": {},
   "outputs": [],
   "source": []
  },
  {
   "cell_type": "code",
   "execution_count": 218,
   "metadata": {},
   "outputs": [],
   "source": [
    "# \"\"\"\n",
    "# explore college data\n",
    "# \"\"\"\n",
    "\n",
    "# # read in data\n",
    "# df = pd.read_csv('../data/exploring_data.csv')\n",
    "# uf = pd.read_csv('../data/colleges.csv')\n",
    "\n",
    "# df['uni_close'] = 'none'\n",
    "# df['uni_save'] = df['uni']\n",
    "\n",
    "# #\n",
    "# df['uni'] = df['uni'].fillna('none given')\n",
    "# df['uni'] = df['uni'].str.replace('Uof','University of')\n",
    "# df['uni'] = df['uni'].str.replace('U of','University of')\n",
    "# df['uni'] = df['uni'].str.replace('Jacobs School of Music','')\n",
    "# uf['displayName'] = uf['displayName'].fillna('none given')\n",
    "\n",
    "# def stripnames(dataframe,instring,outstring):\n",
    "#     dataframe.loc[df['uni'].str.replace(' ','').replace(\"'\",'').replace('-','') \\\n",
    "#                   ==instring.replace(' ','').replace(\"'\",'').replace('-',''),'uni']=outstring\n",
    "#     return dataframe\n",
    "\n",
    "# # # heres where I'm lining up the names\n",
    "# df = stripnames(df,'Indiana University','Indiana University--Bloomington')\n",
    "# df = stripnames(df,'NYU','New York University')\n",
    "# df = stripnames(df,'Oberlin','Oberlin College')\n",
    "# df = stripnames(df,'UIC','University of Illinois Chicago')\n",
    "# df = stripnames(df,'UIUC','University of Illinois--Urbana Champaign')\n",
    "# df = stripnames(df,'USC(So.Cal.)','University of Southern California')\n",
    "# df = stripnames(df,'UofMichigan','University of Michigan')\n",
    "# df = stripnames(df,'Peabody','Johns Hopkins University')\n",
    "# df = stripnames(df,'University of I','University of Illinois--Urbana Champaign')\n",
    "# df = stripnames(df,'NIU','Northern Illinois University')\n",
    "# df = stripnames(df,'U.ofMinnesotaCarlsonSchoolofBusiness','University of Minnesota')\n",
    "# df = stripnames(df,'NEC','New England Conservatory')\n",
    "# df = stripnames(df,'MIT','Massachussetts Institute of Technology')\n",
    "# df = stripnames(df,'Gap Year','none')\n",
    "# df = stripnames(df,'Year off','none')\n",
    "# df = stripnames(df,'The Juilliard School','Julliard School')\n",
    "# df = stripnames(df,'IUBloomington,JacobsSchoolofMusic','Indiana University--Bloomington')\n",
    "# df = stripnames(df,'IUJacobsSchoolofMusic','Indiana University--Bloomington')\n",
    "# df = stripnames(df,'HarvardCollege','Harvard University')\n",
    "# df = stripnames(df,'Undecided','none')\n",
    "# df = stripnames(df,'NotgoingtoCollege','none')\n",
    "# df = stripnames(df,'IndianaUniversityJacobsSchoolofMusic','Indiana University--Bloomington')\n",
    "# df = stripnames(df,'IndianaUniversity,JacobsSchoolofMusic','Indiana University--Bloomington')\n",
    "# df = stripnames(df,'IndianaUniversity(JacobsSchoolofMusic)','Indiana University--Bloomington')\n",
    "# df = stripnames(df,'JacobsSchoolofMusic,atIndianaUniversity','Indiana University--Bloomington')\n",
    "# df = stripnames(df,'ClarendonHillsMiddleSchool','none')\n",
    "# df = stripnames(df,'IU','Indiana University--Bloomington')\n",
    "# df = stripnames(df,'LawrenceConservatory','Lawrence University')\n",
    "# df = stripnames(df,'IndianaUniversity','Indiana University--Bloomington')\n",
    "# df = stripnames(df,'WesternIllinoisUniversity','WesternIllinois')\n",
    "# df = stripnames(df,'UniversityofIllinois','University of Illinois--Urbana Champaign')\n",
    "# df = stripnames(df,',atIndianaUniversity','Indiana University--Bloomington')\n",
    "# df = stripnames(df,'X','X')\n",
    "# df = stripnames(df,'X','X')\n",
    "# df = stripnames(df,'X','X')\n",
    "# df = stripnames(df,'X','X')\n",
    "# df = stripnames(df,'X','X')\n",
    "\n",
    "# for index, row in df.iterrows():\n",
    "#     df.loc[index, 'uni_close']=process.extractOne(row['uni'],uf['displayName'])[0]\n",
    "    \n",
    "\n",
    "\n",
    "# # for index, row in df.iterrows():\n",
    "# #     actual_uni = row['uni'].replace(' ','').replace(\"'\",'').replace('-','')\n",
    "# #     closest_uni = row['uni_close'].replace(' ','').replace(\"'\",'').replace('-','')\n",
    "# #     if 90 < fuzz.ratio(actual_uni,closest_uni) < 100:\n",
    "# #         print(actual_uni.strip(), ' AND ',closest_uni.strip())"
   ]
  },
  {
   "cell_type": "code",
   "execution_count": 224,
   "metadata": {},
   "outputs": [
    {
     "data": {
      "text/plain": [
       "Unnamed: 0            int64\n",
       "instrument           object\n",
       "gradyear              int64\n",
       "major                object\n",
       "financial_aid       float64\n",
       "race                 object\n",
       "gender               object\n",
       "m_employ             object\n",
       "m_job                object\n",
       "d_employ             object\n",
       "homezip             float64\n",
       "school               object\n",
       "s_address            object\n",
       "s_state              object\n",
       "s_zip                object\n",
       "s_ensemble           object\n",
       "pt                   object\n",
       "studentID             int64\n",
       "caucasian             int64\n",
       "african_american      int64\n",
       "native_american       int64\n",
       "latino                int64\n",
       "asian                 int64\n",
       "other_race            int64\n",
       "multiracial           int64\n",
       "male                  int64\n",
       "female                int64\n",
       "music                 int64\n",
       "median_income       float64\n",
       "mean_income         float64\n",
       "Pop                  object\n",
       "income_diff         float64\n",
       "uni                  object\n",
       "acceptance_rate     float64\n",
       "uni_public            int64\n",
       "dtype: object"
      ]
     },
     "execution_count": 224,
     "metadata": {},
     "output_type": "execute_result"
    }
   ],
   "source": []
  },
  {
   "cell_type": "code",
   "execution_count": null,
   "metadata": {},
   "outputs": [],
   "source": []
  }
 ],
 "metadata": {
  "kernelspec": {
   "display_name": "Python 3",
   "language": "python",
   "name": "python3"
  },
  "language_info": {
   "codemirror_mode": {
    "name": "ipython",
    "version": 3
   },
   "file_extension": ".py",
   "mimetype": "text/x-python",
   "name": "python",
   "nbconvert_exporter": "python",
   "pygments_lexer": "ipython3",
   "version": "3.6.6"
  },
  "toc": {
   "base_numbering": 1,
   "nav_menu": {},
   "number_sections": true,
   "sideBar": true,
   "skip_h1_title": false,
   "title_cell": "Table of Contents",
   "title_sidebar": "Contents",
   "toc_cell": false,
   "toc_position": {},
   "toc_section_display": true,
   "toc_window_display": false
  },
  "varInspector": {
   "cols": {
    "lenName": 16,
    "lenType": 16,
    "lenVar": 40
   },
   "kernels_config": {
    "python": {
     "delete_cmd_postfix": "",
     "delete_cmd_prefix": "del ",
     "library": "var_list.py",
     "varRefreshCmd": "print(var_dic_list())"
    },
    "r": {
     "delete_cmd_postfix": ") ",
     "delete_cmd_prefix": "rm(",
     "library": "var_list.r",
     "varRefreshCmd": "cat(var_dic_list()) "
    }
   },
   "types_to_exclude": [
    "module",
    "function",
    "builtin_function_or_method",
    "instance",
    "_Feature"
   ],
   "window_display": false
  }
 },
 "nbformat": 4,
 "nbformat_minor": 2
}
