{
 "cells": [
  {
   "cell_type": "code",
   "execution_count": 1,
   "metadata": {},
   "outputs": [],
   "source": [
    "import pandas as pd\n",
    "import numpy as np\n",
    "import pickle as pkl\n",
    "from fuzzywuzzy import process, fuzz\n",
    "from matplotlib import pyplot as plt\n",
    "import seaborn as sns\n",
    "import re\n",
    "from collections import defaultdict\n",
    "from sklearn.model_selection import train_test_split\n",
    "from sklearn.metrics import roc_curve, auc\n",
    "%matplotlib inline"
   ]
  },
  {
   "cell_type": "code",
   "execution_count": 3,
   "metadata": {},
   "outputs": [
    {
     "data": {
      "text/plain": [
       "Index(['Unnamed: 0', 'instrument', 'gradyear', 'major', 'financial_aid',\n",
       "       'race', 'gender', 'm_employ', 'm_job', 'd_employ', 'homezip',\n",
       "       'school_x', 's_address', 's_state', 's_zip', 's_ensemble', 'pt',\n",
       "       'studentID', 'caucasian', 'african_american', 'native_american',\n",
       "       'latino', 'asian', 'other_race', 'multiracial', 'male', 'female',\n",
       "       'music', 'median_income', 'mean_income', 'Pop', 'income_diff', 'uni',\n",
       "       'acceptance_rate', 'uni_public', 'chi_school', 'notchi_school',\n",
       "       'chi_home', 'notchi_home', 'stratification_column', 'hs_close',\n",
       "       'school_y', 'pph', 'hs_public', 'hs_private', 'chipub', 'subpub'],\n",
       "      dtype='object')"
      ]
     },
     "execution_count": 3,
     "metadata": {},
     "output_type": "execute_result"
    }
   ],
   "source": [
    "df = pd.read_csv('../data/exploring_data.csv')\n",
    "\n",
    "df.columns"
   ]
  },
  {
   "cell_type": "code",
   "execution_count": 32,
   "metadata": {},
   "outputs": [
    {
     "name": "stdout",
     "output_type": "stream",
     "text": [
      "percentage of asian students majoring:  25.833333333333332 %\n",
      "percentage of white students majoring:  68.91891891891892 %\n"
     ]
    }
   ],
   "source": [
    "af = df[df['asian']==1]\n",
    "af.shape[0]\n",
    "afm = af[af['music']==1]\n",
    "print('percentage of asian students majoring: ',100*afm.shape[0]/af.shape[0],'%')\n",
    "cf = df[df['caucasian']==1]\n",
    "cfm = cf[cf['music']==1]\n",
    "print('percentage of white students majoring: ',100*cfm.shape[0]/cf.shape[0],'%')"
   ]
  },
  {
   "cell_type": "code",
   "execution_count": 19,
   "metadata": {},
   "outputs": [
    {
     "data": {
      "text/plain": [
       "0.6891891891891891"
      ]
     },
     "execution_count": 19,
     "metadata": {},
     "output_type": "execute_result"
    }
   ],
   "source": [
    "cf = df[df['caucasian']==1]\n",
    "cfm = cf[cf['music']==1]\n",
    "print('percentage of white students majoring: ' + cfm.shape[0]/cf.shape[0] + '%')"
   ]
  },
  {
   "cell_type": "code",
   "execution_count": 115,
   "metadata": {},
   "outputs": [
    {
     "data": {
      "text/plain": [
       "(640, 49)"
      ]
     },
     "execution_count": 115,
     "metadata": {},
     "output_type": "execute_result"
    }
   ],
   "source": [
    "bf = df[df['african_american']==1]\n",
    "cfm = cf[cf['music']==1]\n",
    "cfm.shape[0]/cf.shape[0]"
   ]
  },
  {
   "cell_type": "code",
   "execution_count": null,
   "metadata": {},
   "outputs": [],
   "source": []
  }
 ],
 "metadata": {
  "kernelspec": {
   "display_name": "Python 3",
   "language": "python",
   "name": "python3"
  },
  "language_info": {
   "codemirror_mode": {
    "name": "ipython",
    "version": 3
   },
   "file_extension": ".py",
   "mimetype": "text/x-python",
   "name": "python",
   "nbconvert_exporter": "python",
   "pygments_lexer": "ipython3",
   "version": "3.6.6"
  },
  "toc": {
   "base_numbering": 1,
   "nav_menu": {},
   "number_sections": true,
   "sideBar": true,
   "skip_h1_title": false,
   "title_cell": "Table of Contents",
   "title_sidebar": "Contents",
   "toc_cell": false,
   "toc_position": {},
   "toc_section_display": true,
   "toc_window_display": false
  },
  "varInspector": {
   "cols": {
    "lenName": 16,
    "lenType": 16,
    "lenVar": 40
   },
   "kernels_config": {
    "python": {
     "delete_cmd_postfix": "",
     "delete_cmd_prefix": "del ",
     "library": "var_list.py",
     "varRefreshCmd": "print(var_dic_list())"
    },
    "r": {
     "delete_cmd_postfix": ") ",
     "delete_cmd_prefix": "rm(",
     "library": "var_list.r",
     "varRefreshCmd": "cat(var_dic_list()) "
    }
   },
   "types_to_exclude": [
    "module",
    "function",
    "builtin_function_or_method",
    "instance",
    "_Feature"
   ],
   "window_display": false
  }
 },
 "nbformat": 4,
 "nbformat_minor": 2
}
